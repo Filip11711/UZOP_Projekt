{
 "cells": [
  {
   "cell_type": "markdown",
   "id": "928935fe-10be-47d9-a23e-e5d9aaf2be75",
   "metadata": {},
   "source": [
    "# Projekt\n",
    "**Filip Jakovina, 0036535147**\n",
    "## A Machine Learning Strategy For Predicting March Madness Winnerss"
   ]
  },
  {
   "cell_type": "code",
   "execution_count": 1,
   "id": "ef6725c0-7b62-4a5c-af88-b8765ba44907",
   "metadata": {},
   "outputs": [],
   "source": [
    "import pandas as pd\n",
    "import numpy as np\n",
    "import matplotlib.pyplot as plt\n",
    "import seaborn as sns"
   ]
  },
  {
   "cell_type": "markdown",
   "id": "a6ef8688-0eef-4f35-9c49-8e52da32fb67",
   "metadata": {},
   "source": [
    "# Replikacija rezultata"
   ]
  },
  {
   "cell_type": "markdown",
   "id": "d5c35131-9dea-4da3-b91a-834fa1f6ac74",
   "metadata": {},
   "source": [
    "## Učitavanje podataka"
   ]
  },
  {
   "cell_type": "code",
   "execution_count": 2,
   "id": "cefcd716-dee3-4f01-afee-e5c1fedc2086",
   "metadata": {},
   "outputs": [],
   "source": [
    "rscr = pd.read_csv(\"data/regular_season_compact_results.csv\")\n",
    "rsdr = pd.read_csv(\"data/regular_season_detailed_results.csv\")\n",
    "s = pd.read_csv(\"data/seasons.csv\")\n",
    "t = pd.read_csv(\"data/teams.csv\")\n",
    "tcr = pd.read_csv(\"data/tourney_compact_results.csv\")\n",
    "tdr = pd.read_csv(\"data/tourney_detailed_results.csv\")\n",
    "tse = pd.read_csv(\"data/tourney_seeds.csv\")\n",
    "tsl = pd.read_csv(\"data/tourney_slots.csv\")"
   ]
  },
  {
   "cell_type": "markdown",
   "id": "37900f20-0d65-4fbe-893c-186f340ccdf8",
   "metadata": {},
   "source": [
    "## Trasformacija podataka"
   ]
  },
  {
   "cell_type": "code",
   "execution_count": 26,
   "id": "2e037b01-ea29-4105-94e1-e4986aa83cc0",
   "metadata": {},
   "outputs": [],
   "source": [
    "team_stats = t[['team_id']].copy()\n",
    "team_stats['games'] = 0\n",
    "team_stats['wins'] = 0\n",
    "team_stats['points'] = 0\n",
    "team_stats['fgm'] = 0\n",
    "team_stats['fga'] = 0\n",
    "team_stats['fgm3'] = 0\n",
    "team_stats['fga3'] = 0\n",
    "team_stats['ftm'] = 0\n",
    "team_stats['fta'] = 0\n",
    "team_stats['or'] = 0\n",
    "team_stats['dr'] = 0\n",
    "team_stats['ast'] = 0\n",
    "team_stats['to'] = 0\n",
    "team_stats['stl'] = 0\n",
    "team_stats['blk'] = 0\n",
    "team_stats['pf'] = 0\n",
    "\n",
    "team_stats['points_diff'] = 0\n",
    "team_stats['fgm_diff'] = 0\n",
    "team_stats['fga_diff'] = 0\n",
    "team_stats['fgm3_diff'] = 0\n",
    "team_stats['fga3_diff'] = 0\n",
    "team_stats['ftm_diff'] = 0\n",
    "team_stats['fta_diff'] = 0\n",
    "team_stats['or_diff'] = 0\n",
    "team_stats['dr_diff'] = 0\n",
    "team_stats['ast_diff'] = 0\n",
    "team_stats['to_diff'] = 0\n",
    "team_stats['stl_diff'] = 0\n",
    "team_stats['blk_diff'] = 0\n",
    "team_stats['pf_diff'] = 0\n",
    "\n",
    "for index, row in rsdr.iterrows():\n",
    "    if row['season'] < 2011:\n",
    "        continue\n",
    "    wscore, wfgm, wfga, wfgm3, wfga3, wftm, wfta, wor, wdr, wast, wto, wstl, wblk, wpf = row['wscore'], row['wfgm'], row['wfga'], row['wfgm3'], row['wfga3'], row['wftm'], row['wfta'], row['wor'], row['wdr'], row['wast'], row['wto'], row['wstl'], row['wblk'], row['wpf']\n",
    "    lscore, lfgm, lfga, lfgm3, lfga3, lftm, lfta, lor, ldr, last, lto, lstl, lblk, lpf = row['lscore'], row['lfgm'], row['lfga'], row['lfgm3'], row['lfga3'], row['lftm'], row['lfta'], row['lor'], row['ldr'], row['last'], row['lto'], row['lstl'], row['lblk'], row['lpf']\n",
    "    point_diff = row['wscore'] - row['lscore']\n",
    "    fgm_diff = row['wfgm'] - row['lfgm']\n",
    "    fga_diff = row['wfga'] - row['lfga']\n",
    "    fgm3_diff = row['wfgm3'] - row['lfgm3']\n",
    "    fga3_diff = row['wfga3'] - row['lfga3']\n",
    "    ftm_diff = row['wftm'] - row['lftm']\n",
    "    fta_diff = row['wfta'] - row['lfta']\n",
    "    or_diff = row['wor'] - row['lor']\n",
    "    dr_diff = row['wdr'] - row['ldr']\n",
    "    ast_diff = row['wast'] - row['last']\n",
    "    to_diff = row['wto'] - row['lto']\n",
    "    stl_diff = row['wstl'] - row['lstl']\n",
    "    blk_diff = row['wblk'] - row['lblk']\n",
    "    pf_diff = row['wpf'] - row['lpf']\n",
    "    \n",
    "    team_stats.loc[team_stats['team_id'] == row['wteam'], 'games'] += 1\n",
    "    team_stats.loc[team_stats['team_id'] == row['wteam'], 'wins'] += 1\n",
    "    \n",
    "    team_stats.loc[team_stats['team_id'] == row['wteam'], ['points', 'fgm', 'fga', 'fgm3', 'fga3', 'ftm', 'fta', 'or', 'dr', 'ast', 'to', 'stl', 'blk', 'pf']] += [wscore, wfgm, wfga, wfgm3, wfga3, wftm, wfta, wor, wdr, wast, wto, wstl, wblk, wpf]\n",
    "\n",
    "    team_stats.loc[team_stats['team_id'] == row['wteam'], ['points_diff', 'fgm_diff', 'fga_diff', 'fgm3_diff', 'fga3_diff', 'ftm_diff', 'fta_diff', 'or_diff', 'dr_diff', 'ast_diff', 'to_diff', 'stl_diff', 'blk_diff', 'pf_diff']] += [point_diff, fgm_diff, fga_diff, fgm3_diff, fga3_diff, ftm_diff, fta_diff, or_diff, dr_diff, ast_diff, to_diff, stl_diff, blk_diff, pf_diff]\n",
    "\n",
    "    team_stats.loc[team_stats['team_id'] == row['lteam'], 'games'] += 1\n",
    "    team_stats.loc[team_stats['team_id'] == row['lteam'], ['points', 'fgm', 'fga', 'fgm3', 'fga3', 'ftm', 'fta', 'or', 'dr', 'ast', 'to', 'stl', 'blk', 'pf']] += [lscore, lfgm, lfga, lfgm3, lfga3, lftm, lfta, lor, ldr, last, lto, lstl, lblk, lpf]\n",
    "\n",
    "    team_stats.loc[team_stats['team_id'] == row['lteam'], ['points_diff', 'fgm_diff', 'fga_diff', 'fgm3_diff', 'fga3_diff', 'ftm_diff', 'fta_diff', 'or_diff', 'dr_diff', 'ast_diff', 'to_diff', 'stl_diff', 'blk_diff', 'pf_diff']] -= [point_diff, fgm_diff, fga_diff, fgm3_diff, fga3_diff, ftm_diff, fta_diff, or_diff, dr_diff, ast_diff, to_diff, stl_diff, blk_diff, pf_diff]"
   ]
  },
  {
   "cell_type": "code",
   "execution_count": 27,
   "id": "1829216a-bdc9-4016-82f4-22dfbf2223ce",
   "metadata": {},
   "outputs": [],
   "source": [
    "for index, row in tdr.iterrows():\n",
    "    if row['season'] < 2011 or row['season'] > 2013:\n",
    "        continue\n",
    "    wscore, wfgm, wfga, wfgm3, wfga3, wftm, wfta, wor, wdr, wast, wto, wstl, wblk, wpf = row['wscore'], row['wfgm'], row['wfga'], row['wfgm3'], row['wfga3'], row['wftm'], row['wfta'], row['wor'], row['wdr'], row['wast'], row['wto'], row['wstl'], row['wblk'], row['wpf']\n",
    "    lscore, lfgm, lfga, lfgm3, lfga3, lftm, lfta, lor, ldr, last, lto, lstl, lblk, lpf = row['lscore'], row['lfgm'], row['lfga'], row['lfgm3'], row['lfga3'], row['lftm'], row['lfta'], row['lor'], row['ldr'], row['last'], row['lto'], row['lstl'], row['lblk'], row['lpf']\n",
    "    point_diff = row['wscore'] - row['lscore']\n",
    "    fgm_diff = row['wfgm'] - row['lfgm']\n",
    "    fga_diff = row['wfga'] - row['lfga']\n",
    "    fgm3_diff = row['wfgm3'] - row['lfgm3']\n",
    "    fga3_diff = row['wfga3'] - row['lfga3']\n",
    "    ftm_diff = row['wftm'] - row['lftm']\n",
    "    fta_diff = row['wfta'] - row['lfta']\n",
    "    or_diff = row['wor'] - row['lor']\n",
    "    dr_diff = row['wdr'] - row['ldr']\n",
    "    ast_diff = row['wast'] - row['last']\n",
    "    to_diff = row['wto'] - row['lto']\n",
    "    stl_diff = row['wstl'] - row['lstl']\n",
    "    blk_diff = row['wblk'] - row['lblk']\n",
    "    pf_diff = row['wpf'] - row['lpf']\n",
    "    \n",
    "    team_stats.loc[team_stats['team_id'] == row['wteam'], 'games'] += 1\n",
    "    team_stats.loc[team_stats['team_id'] == row['wteam'], 'wins'] += 1\n",
    "    \n",
    "    team_stats.loc[team_stats['team_id'] == row['wteam'], ['points', 'fgm', 'fga', 'fgm3', 'fga3', 'ftm', 'fta', 'or', 'dr', 'ast', 'to', 'stl', 'blk', 'pf']] += [wscore, wfgm, wfga, wfgm3, wfga3, wftm, wfta, wor, wdr, wast, wto, wstl, wblk, wpf]\n",
    "\n",
    "    team_stats.loc[team_stats['team_id'] == row['wteam'], ['points_diff', 'fgm_diff', 'fga_diff', 'fgm3_diff', 'fga3_diff', 'ftm_diff', 'fta_diff', 'or_diff', 'dr_diff', 'ast_diff', 'to_diff', 'stl_diff', 'blk_diff', 'pf_diff']] += [point_diff, fgm_diff, fga_diff, fgm3_diff, fga3_diff, ftm_diff, fta_diff, or_diff, dr_diff, ast_diff, to_diff, stl_diff, blk_diff, pf_diff]\n",
    "\n",
    "    team_stats.loc[team_stats['team_id'] == row['lteam'], 'games'] += 1\n",
    "    team_stats.loc[team_stats['team_id'] == row['lteam'], ['points', 'fgm', 'fga', 'fgm3', 'fga3', 'ftm', 'fta', 'or', 'dr', 'ast', 'to', 'stl', 'blk', 'pf']] += [lscore, lfgm, lfga, lfgm3, lfga3, lftm, lfta, lor, ldr, last, lto, lstl, lblk, lpf]\n",
    "\n",
    "    team_stats.loc[team_stats['team_id'] == row['lteam'], ['points_diff', 'fgm_diff', 'fga_diff', 'fgm3_diff', 'fga3_diff', 'ftm_diff', 'fta_diff', 'or_diff', 'dr_diff', 'ast_diff', 'to_diff', 'stl_diff', 'blk_diff', 'pf_diff']] -= [point_diff, fgm_diff, fga_diff, fgm3_diff, fga3_diff, ftm_diff, fta_diff, or_diff, dr_diff, ast_diff, to_diff, stl_diff, blk_diff, pf_diff]"
   ]
  },
  {
   "cell_type": "code",
   "execution_count": 29,
   "id": "490632bc-9428-4eb7-a772-d83c501ea949",
   "metadata": {},
   "outputs": [],
   "source": [
    "team_stats['win_percentage'] = team_stats['wins'] / team_stats['games']\n",
    "team_stats['average_points'] = team_stats['points'] / team_stats['games']\n",
    "team_stats['average_fgm'] = team_stats['fgm'] / team_stats['games']\n",
    "team_stats['average_fga'] = team_stats['fga'] / team_stats['games']\n",
    "team_stats['average_fgm3'] = team_stats['fgm3'] / team_stats['games']\n",
    "team_stats['average_fga3'] = team_stats['fga3'] / team_stats['games']\n",
    "team_stats['average_ftm'] = team_stats['ftm'] / team_stats['games']\n",
    "team_stats['average_fta'] = team_stats['fta'] / team_stats['games']\n",
    "team_stats['average_or'] = team_stats['or'] / team_stats['games']\n",
    "team_stats['average_dr'] = team_stats['dr'] / team_stats['games']\n",
    "team_stats['average_ast'] = team_stats['ast'] / team_stats['games']\n",
    "team_stats['average_to'] = team_stats['to'] / team_stats['games']\n",
    "team_stats['average_stl'] = team_stats['stl'] / team_stats['games']\n",
    "team_stats['average_blk'] = team_stats['blk'] / team_stats['games']\n",
    "team_stats['average_pf'] = team_stats['pf'] / team_stats['games']"
   ]
  },
  {
   "cell_type": "code",
   "execution_count": 31,
   "id": "0494f602-99e8-4fd4-b344-c19e847d03e2",
   "metadata": {},
   "outputs": [],
   "source": [
    "team_stats['fgm_percentage'] = team_stats['fgm'] / team_stats['fga']\n",
    "team_stats['fgm3_percentage'] = team_stats['fgm3'] / team_stats['fga3']\n",
    "team_stats['ftm_percentage'] = team_stats['ftm'] / team_stats['fta']"
   ]
  },
  {
   "cell_type": "code",
   "execution_count": 81,
   "id": "d358080d-489a-4f11-a6d0-a63c97342d9f",
   "metadata": {},
   "outputs": [],
   "source": [
    "team_stats.dropna(inplace=True)"
   ]
  },
  {
   "cell_type": "markdown",
   "id": "312b2ab3-a4b1-4197-86f8-ba8ff8f8c723",
   "metadata": {},
   "source": [
    "## Treniranje regresijskih modela"
   ]
  },
  {
   "cell_type": "markdown",
   "id": "22adbfee-552f-4006-9d32-2137add06276",
   "metadata": {},
   "source": [
    "### Određivanje važnih značajki"
   ]
  },
  {
   "cell_type": "code",
   "execution_count": 82,
   "id": "bb3710cf-4537-43d1-b1da-e96e4c605cf2",
   "metadata": {},
   "outputs": [
    {
     "name": "stdout",
     "output_type": "stream",
     "text": [
      "wins              0.963265\n",
      "points_diff       0.953777\n",
      "fgm_diff          0.863150\n",
      "ast_diff          0.788545\n",
      "dr_diff           0.757239\n",
      "fgm_percentage    0.713098\n",
      "ast               0.667684\n",
      "ftm_diff          0.660613\n",
      "points            0.653855\n",
      "average_points    0.650075\n",
      "Name: win_percentage, dtype: float64\n"
     ]
    }
   ],
   "source": [
    "target_column = 'win_percentage'\n",
    "\n",
    "correlation_matrix = team_stats.corr()\n",
    "\n",
    "best_correlated_columns = correlation_matrix[target_column].abs().sort_values(ascending=False).index[1:]\n",
    "\n",
    "best_correlations = correlation_matrix.loc[target_column, best_correlated_columns]\n",
    "print(best_correlations[:10])"
   ]
  },
  {
   "cell_type": "markdown",
   "id": "cdf3f624-3839-40a3-9b10-79a5a529e2cd",
   "metadata": {},
   "source": [
    "### Priprema podataka za treniranje"
   ]
  },
  {
   "cell_type": "code",
   "execution_count": 83,
   "id": "c08f4202-e576-4ab2-ba16-a0d62f0b4089",
   "metadata": {},
   "outputs": [],
   "source": [
    "train_data = pd.DataFrame()\n",
    "train_data['wins'] = 2 * (team_stats['wins'].max() - team_stats['wins'].min()) * (team_stats['wins'] - team_stats['wins'].min()) / (team_stats['wins'].max() - team_stats['wins'].min()) - (team_stats['wins'].max() - team_stats['wins'].min())\n",
    "train_data['points_diff'] = 2 * (team_stats['points_diff'].max() - team_stats['points_diff'].min()) * (team_stats['points_diff'] - team_stats['points_diff'].min()) / (team_stats['points_diff'].max() - team_stats['points_diff'].min()) - (team_stats['points_diff'].max() - team_stats['points_diff'].min())\n",
    "train_data['fgm_diff'] = 2 * (team_stats['fgm_diff'].max() - team_stats['fgm_diff'].min()) * (team_stats['fgm_diff'] - team_stats['fgm_diff'].min()) / (team_stats['fgm_diff'].max() - team_stats['fgm_diff'].min()) - (team_stats['fgm_diff'].max() - team_stats['fgm_diff'].min())\n",
    "train_data['ast_diff'] = 2 * (team_stats['ast_diff'].max() - team_stats['ast_diff'].min()) * (team_stats['ast_diff'] - team_stats['ast_diff'].min()) / (team_stats['ast_diff'].max() - team_stats['ast_diff'].min()) - (team_stats['ast_diff'].max() - team_stats['ast_diff'].min())\n",
    "train_data['dr_diff'] = 2 * (team_stats['dr_diff'].max() - team_stats['dr_diff'].min()) * (team_stats['dr_diff'] - team_stats['dr_diff'].min()) / (team_stats['dr_diff'].max() - team_stats['dr_diff'].min()) - (team_stats['dr_diff'].max() - team_stats['dr_diff'].min())\n",
    "train_data['fgm_percentage'] = 2 * (team_stats['fgm_percentage'].max() - team_stats['fgm_percentage'].min()) * (team_stats['fgm_percentage'] - team_stats['fgm_percentage'].min()) / (team_stats['fgm_percentage'].max() - team_stats['fgm_percentage'].min()) - (team_stats['fgm_percentage'].max() - team_stats['fgm_percentage'].min())"
   ]
  },
  {
   "cell_type": "code",
   "execution_count": 86,
   "id": "970a5572-4267-4386-89cc-086a6887cafc",
   "metadata": {},
   "outputs": [],
   "source": [
    "y = team_stats['win_percentage'].values"
   ]
  },
  {
   "cell_type": "markdown",
   "id": "f35816c3-c79c-4bce-9757-ec13cf6d658d",
   "metadata": {},
   "source": [
    "### Treniranje modela"
   ]
  },
  {
   "cell_type": "code",
   "execution_count": 98,
   "id": "785e0154-1ee9-47ed-bd49-c37189a673a8",
   "metadata": {},
   "outputs": [],
   "source": [
    "from sklearn.linear_model import LinearRegression\n",
    "from sklearn.preprocessing import PolynomialFeatures\n",
    "\n",
    "models = {}\n",
    "models['wins'] = LinearRegression()\n",
    "models['wins'].fit(PolynomialFeatures(degree=2).fit_transform(train_data['wins'].values.reshape(-1, 1)), y)\n",
    "models['points_diff'] = LinearRegression()\n",
    "models['points_diff'].fit(PolynomialFeatures(degree=2).fit_transform(train_data['points_diff'].values.reshape(-1, 1)), y)\n",
    "models['fgm_diff'] = LinearRegression()\n",
    "models['fgm_diff'].fit(PolynomialFeatures(degree=2).fit_transform(train_data['fgm_diff'].values.reshape(-1, 1)), y)\n",
    "models['ast_diff'] = LinearRegression()\n",
    "models['ast_diff'].fit(PolynomialFeatures(degree=2).fit_transform(train_data['ast_diff'].values.reshape(-1, 1)), y)\n",
    "models['dr_diff'] = LinearRegression()\n",
    "models['dr_diff'].fit(PolynomialFeatures(degree=2).fit_transform(train_data['dr_diff'].values.reshape(-1, 1)), y)\n",
    "models['fgm_percentage'] = LinearRegression()\n",
    "models['fgm_percentage'].fit(PolynomialFeatures(degree=2).fit_transform(train_data['fgm_percentage'].values.reshape(-1, 1)), y)\n",
    "x=0"
   ]
  },
  {
   "cell_type": "markdown",
   "id": "abc18978-6e53-4387-b7b1-76ab9c7ca704",
   "metadata": {},
   "source": [
    "## Izrada agregatnog modela"
   ]
  },
  {
   "cell_type": "code",
   "execution_count": 125,
   "id": "4f9b8c1b-1f25-4788-985e-04df1877331d",
   "metadata": {},
   "outputs": [],
   "source": [
    "def callProbWin(w, l, model):\n",
    "    x = abs(w - l)\n",
    "    y = model.predict(PolynomialFeatures(degree=2).fit_transform(np.array(x).reshape(1, 1)))[0]\n",
    "    if (w - l) < 0:\n",
    "        return 1 - y\n",
    "    return y\n",
    "\n",
    "def predWin(df, V, models, id_1, id_2):\n",
    "    sum_prob = 0\n",
    "    for v in V:\n",
    "        w_search = df.loc[df['team_id'] == id_1, v].values\n",
    "        if w_search.size > 0:\n",
    "            w = w_search[0]\n",
    "        else:\n",
    "            return \"Unknown\"\n",
    "        l_search = df.loc[df['team_id'] == id_2, v].values\n",
    "        if l_search.size > 0:\n",
    "            l = l_search[0]\n",
    "        else:\n",
    "            return \"Unknown\"\n",
    "        model = models[v]\n",
    "        sum_prob += callProbWin(w, l, model)\n",
    "    return (sum_prob / len(V))"
   ]
  },
  {
   "cell_type": "code",
   "execution_count": 123,
   "id": "473b9f99-9ed8-46d1-ad5f-753544b60d00",
   "metadata": {},
   "outputs": [],
   "source": [
    "V = [\"wins\", \"points_diff\", \"fgm_diff\", \"ast_diff\", \"dr_diff\", \"fgm_percentage\"]"
   ]
  },
  {
   "cell_type": "code",
   "execution_count": 136,
   "id": "c65db8ec-4964-40d7-9f08-57dd4c8dc4f3",
   "metadata": {},
   "outputs": [],
   "source": [
    "import itertools\n",
    "\n",
    "team_ids = team_stats['team_id'].tolist()\n",
    "team_id_combinations = list(itertools.permutations(team_ids, 2))\n",
    "\n",
    "team_dict = t.set_index('team_id')['team_name'].to_dict()\n",
    "\n",
    "pairs = []\n",
    "predictions = []\n",
    "for id_1, id_2 in team_id_combinations:\n",
    "    name_1 = team_dict[id_1]\n",
    "    name_2 = team_dict[id_2]\n",
    "    pairs.append(name_1 + \"_\" + name_2)\n",
    "    pred = predWin(team_stats, V, models, id_1, id_2)\n",
    "    predictions.append(pred)\n",
    "\n",
    "data = {\n",
    "    \"id\" : pairs,\n",
    "    \"pred\": predictions\n",
    "}\n",
    "\n",
    "predicted_pairs = pd.DataFrame(data)"
   ]
  },
  {
   "cell_type": "code",
   "execution_count": 141,
   "id": "caf572e2-c3a5-427b-ad6f-8eea4114ae48",
   "metadata": {},
   "outputs": [],
   "source": [
    "predicted_pairs.to_csv('data/predicted_pairs.csv', index=False)"
   ]
  },
  {
   "cell_type": "code",
   "execution_count": null,
   "id": "45d6530e-660a-4e0a-adc4-51c413d3b51a",
   "metadata": {},
   "outputs": [],
   "source": []
  },
  {
   "cell_type": "code",
   "execution_count": null,
   "id": "62d82c6a-9f34-4262-a226-4db6053a3347",
   "metadata": {},
   "outputs": [],
   "source": []
  }
 ],
 "metadata": {
  "kernelspec": {
   "display_name": "Python 3 (ipykernel)",
   "language": "python",
   "name": "python3"
  },
  "language_info": {
   "codemirror_mode": {
    "name": "ipython",
    "version": 3
   },
   "file_extension": ".py",
   "mimetype": "text/x-python",
   "name": "python",
   "nbconvert_exporter": "python",
   "pygments_lexer": "ipython3",
   "version": "3.11.2"
  }
 },
 "nbformat": 4,
 "nbformat_minor": 5
}
