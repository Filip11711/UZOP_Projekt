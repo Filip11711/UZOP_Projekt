{
 "cells": [
  {
   "cell_type": "markdown",
   "id": "928935fe-10be-47d9-a23e-e5d9aaf2be75",
   "metadata": {},
   "source": [
    "# Projekt\n",
    "**Filip Jakovina, 0036535147**\n",
    "## A Machine Learning Strategy For Predicting March Madness Winnerss"
   ]
  },
  {
   "cell_type": "code",
   "execution_count": 1,
   "id": "ef6725c0-7b62-4a5c-af88-b8765ba44907",
   "metadata": {},
   "outputs": [],
   "source": [
    "import pandas as pd\n",
    "import numpy as np\n",
    "import matplotlib.pyplot as plt\n",
    "import seaborn as sns"
   ]
  },
  {
   "cell_type": "markdown",
   "id": "a6ef8688-0eef-4f35-9c49-8e52da32fb67",
   "metadata": {},
   "source": [
    "# Replikacija rezultata"
   ]
  },
  {
   "cell_type": "markdown",
   "id": "d5c35131-9dea-4da3-b91a-834fa1f6ac74",
   "metadata": {},
   "source": [
    "## Učitavanje podataka"
   ]
  },
  {
   "cell_type": "code",
   "execution_count": 2,
   "id": "cefcd716-dee3-4f01-afee-e5c1fedc2086",
   "metadata": {},
   "outputs": [],
   "source": [
    "rscr = pd.read_csv(\"data/regular_season_compact_results.csv\")\n",
    "rsdr = pd.read_csv(\"data/regular_season_detailed_results.csv\")\n",
    "s = pd.read_csv(\"data/seasons.csv\")\n",
    "t = pd.read_csv(\"data/teams.csv\")\n",
    "tcr = pd.read_csv(\"data/tourney_compact_results.csv\")\n",
    "tdr = pd.read_csv(\"data/tourney_detailed_results.csv\")\n",
    "tse = pd.read_csv(\"data/tourney_seeds.csv\")\n",
    "tsl = pd.read_csv(\"data/tourney_slots.csv\")"
   ]
  },
  {
   "cell_type": "markdown",
   "id": "37900f20-0d65-4fbe-893c-186f340ccdf8",
   "metadata": {},
   "source": [
    "## Trasformacija podataka"
   ]
  },
  {
   "cell_type": "markdown",
   "id": "e1816a21-601b-42d8-a397-9475e9c94902",
   "metadata": {},
   "source": [
    "Za početak je potrebno napraviti trasformaciju podataka na način da sve rezulatate i statistike iz svake utakmice\n",
    "pretvorimo u statistike svake momčadi. <br>\n",
    "Napravimo novi dataFrame 'team_stats' čije će značajke biti ukupne vrijednosti statistika te razlike statistika. <br>\n",
    "Pošto repliciramo rezultate iz članka, koristit ćemo rezultate od sezone 2011. do 2014. za regularni dio sezone\n",
    "te od 2011. do 2013. za završni turnir. <br>\n",
    "U sljedećem koraku stvaramo taj dataFrame te transformiramo podatke za regularni dio sezone od 2011. do 2014."
   ]
  },
  {
   "cell_type": "code",
   "execution_count": 3,
   "id": "2e037b01-ea29-4105-94e1-e4986aa83cc0",
   "metadata": {},
   "outputs": [],
   "source": [
    "team_stats = t[['team_id']].copy()\n",
    "team_stats['games'] = 0\n",
    "team_stats['wins'] = 0\n",
    "team_stats['points'] = 0\n",
    "team_stats['fgm'] = 0\n",
    "team_stats['fga'] = 0\n",
    "team_stats['fgm3'] = 0\n",
    "team_stats['fga3'] = 0\n",
    "team_stats['ftm'] = 0\n",
    "team_stats['fta'] = 0\n",
    "team_stats['or'] = 0\n",
    "team_stats['dr'] = 0\n",
    "team_stats['ast'] = 0\n",
    "team_stats['to'] = 0\n",
    "team_stats['stl'] = 0\n",
    "team_stats['blk'] = 0\n",
    "team_stats['pf'] = 0\n",
    "\n",
    "team_stats['points_diff'] = 0\n",
    "team_stats['fgm_diff'] = 0\n",
    "team_stats['fga_diff'] = 0\n",
    "team_stats['fgm3_diff'] = 0\n",
    "team_stats['fga3_diff'] = 0\n",
    "team_stats['ftm_diff'] = 0\n",
    "team_stats['fta_diff'] = 0\n",
    "team_stats['or_diff'] = 0\n",
    "team_stats['dr_diff'] = 0\n",
    "team_stats['ast_diff'] = 0\n",
    "team_stats['to_diff'] = 0\n",
    "team_stats['stl_diff'] = 0\n",
    "team_stats['blk_diff'] = 0\n",
    "team_stats['pf_diff'] = 0\n",
    "\n",
    "for index, row in rsdr.iterrows():\n",
    "    if row['season'] < 2011:\n",
    "        continue\n",
    "    wscore, wfgm, wfga, wfgm3, wfga3, wftm, wfta, wor, wdr, wast, wto, wstl, wblk, wpf = row['wscore'], row['wfgm'], row['wfga'], row['wfgm3'], row['wfga3'], row['wftm'], row['wfta'], row['wor'], row['wdr'], row['wast'], row['wto'], row['wstl'], row['wblk'], row['wpf']\n",
    "    lscore, lfgm, lfga, lfgm3, lfga3, lftm, lfta, lor, ldr, last, lto, lstl, lblk, lpf = row['lscore'], row['lfgm'], row['lfga'], row['lfgm3'], row['lfga3'], row['lftm'], row['lfta'], row['lor'], row['ldr'], row['last'], row['lto'], row['lstl'], row['lblk'], row['lpf']\n",
    "    point_diff = row['wscore'] - row['lscore']\n",
    "    fgm_diff = row['wfgm'] - row['lfgm']\n",
    "    fga_diff = row['wfga'] - row['lfga']\n",
    "    fgm3_diff = row['wfgm3'] - row['lfgm3']\n",
    "    fga3_diff = row['wfga3'] - row['lfga3']\n",
    "    ftm_diff = row['wftm'] - row['lftm']\n",
    "    fta_diff = row['wfta'] - row['lfta']\n",
    "    or_diff = row['wor'] - row['lor']\n",
    "    dr_diff = row['wdr'] - row['ldr']\n",
    "    ast_diff = row['wast'] - row['last']\n",
    "    to_diff = row['wto'] - row['lto']\n",
    "    stl_diff = row['wstl'] - row['lstl']\n",
    "    blk_diff = row['wblk'] - row['lblk']\n",
    "    pf_diff = row['wpf'] - row['lpf']\n",
    "    \n",
    "    team_stats.loc[team_stats['team_id'] == row['wteam'], 'games'] += 1\n",
    "    team_stats.loc[team_stats['team_id'] == row['wteam'], 'wins'] += 1\n",
    "    \n",
    "    team_stats.loc[team_stats['team_id'] == row['wteam'], ['points', 'fgm', 'fga', 'fgm3', 'fga3', 'ftm', 'fta', 'or', 'dr', 'ast', 'to', 'stl', 'blk', 'pf']] += [wscore, wfgm, wfga, wfgm3, wfga3, wftm, wfta, wor, wdr, wast, wto, wstl, wblk, wpf]\n",
    "\n",
    "    team_stats.loc[team_stats['team_id'] == row['wteam'], ['points_diff', 'fgm_diff', 'fga_diff', 'fgm3_diff', 'fga3_diff', 'ftm_diff', 'fta_diff', 'or_diff', 'dr_diff', 'ast_diff', 'to_diff', 'stl_diff', 'blk_diff', 'pf_diff']] += [point_diff, fgm_diff, fga_diff, fgm3_diff, fga3_diff, ftm_diff, fta_diff, or_diff, dr_diff, ast_diff, to_diff, stl_diff, blk_diff, pf_diff]\n",
    "\n",
    "    team_stats.loc[team_stats['team_id'] == row['lteam'], 'games'] += 1\n",
    "    team_stats.loc[team_stats['team_id'] == row['lteam'], ['points', 'fgm', 'fga', 'fgm3', 'fga3', 'ftm', 'fta', 'or', 'dr', 'ast', 'to', 'stl', 'blk', 'pf']] += [lscore, lfgm, lfga, lfgm3, lfga3, lftm, lfta, lor, ldr, last, lto, lstl, lblk, lpf]\n",
    "\n",
    "    team_stats.loc[team_stats['team_id'] == row['lteam'], ['points_diff', 'fgm_diff', 'fga_diff', 'fgm3_diff', 'fga3_diff', 'ftm_diff', 'fta_diff', 'or_diff', 'dr_diff', 'ast_diff', 'to_diff', 'stl_diff', 'blk_diff', 'pf_diff']] -= [point_diff, fgm_diff, fga_diff, fgm3_diff, fga3_diff, ftm_diff, fta_diff, or_diff, dr_diff, ast_diff, to_diff, stl_diff, blk_diff, pf_diff]"
   ]
  },
  {
   "cell_type": "markdown",
   "id": "01702721-881c-4486-88c3-0e44de15aec3",
   "metadata": {},
   "source": [
    "U sljedećem koraku ćemo napraviti isto za rezultate završnog dijela sezone za sezone 2011. - 2013."
   ]
  },
  {
   "cell_type": "code",
   "execution_count": 4,
   "id": "1829216a-bdc9-4016-82f4-22dfbf2223ce",
   "metadata": {},
   "outputs": [],
   "source": [
    "for index, row in tdr.iterrows():\n",
    "    if row['season'] < 2011 or row['season'] > 2013:\n",
    "        continue\n",
    "    wscore, wfgm, wfga, wfgm3, wfga3, wftm, wfta, wor, wdr, wast, wto, wstl, wblk, wpf = row['wscore'], row['wfgm'], row['wfga'], row['wfgm3'], row['wfga3'], row['wftm'], row['wfta'], row['wor'], row['wdr'], row['wast'], row['wto'], row['wstl'], row['wblk'], row['wpf']\n",
    "    lscore, lfgm, lfga, lfgm3, lfga3, lftm, lfta, lor, ldr, last, lto, lstl, lblk, lpf = row['lscore'], row['lfgm'], row['lfga'], row['lfgm3'], row['lfga3'], row['lftm'], row['lfta'], row['lor'], row['ldr'], row['last'], row['lto'], row['lstl'], row['lblk'], row['lpf']\n",
    "    point_diff = row['wscore'] - row['lscore']\n",
    "    fgm_diff = row['wfgm'] - row['lfgm']\n",
    "    fga_diff = row['wfga'] - row['lfga']\n",
    "    fgm3_diff = row['wfgm3'] - row['lfgm3']\n",
    "    fga3_diff = row['wfga3'] - row['lfga3']\n",
    "    ftm_diff = row['wftm'] - row['lftm']\n",
    "    fta_diff = row['wfta'] - row['lfta']\n",
    "    or_diff = row['wor'] - row['lor']\n",
    "    dr_diff = row['wdr'] - row['ldr']\n",
    "    ast_diff = row['wast'] - row['last']\n",
    "    to_diff = row['wto'] - row['lto']\n",
    "    stl_diff = row['wstl'] - row['lstl']\n",
    "    blk_diff = row['wblk'] - row['lblk']\n",
    "    pf_diff = row['wpf'] - row['lpf']\n",
    "    \n",
    "    team_stats.loc[team_stats['team_id'] == row['wteam'], 'games'] += 1\n",
    "    team_stats.loc[team_stats['team_id'] == row['wteam'], 'wins'] += 1\n",
    "    \n",
    "    team_stats.loc[team_stats['team_id'] == row['wteam'], ['points', 'fgm', 'fga', 'fgm3', 'fga3', 'ftm', 'fta', 'or', 'dr', 'ast', 'to', 'stl', 'blk', 'pf']] += [wscore, wfgm, wfga, wfgm3, wfga3, wftm, wfta, wor, wdr, wast, wto, wstl, wblk, wpf]\n",
    "\n",
    "    team_stats.loc[team_stats['team_id'] == row['wteam'], ['points_diff', 'fgm_diff', 'fga_diff', 'fgm3_diff', 'fga3_diff', 'ftm_diff', 'fta_diff', 'or_diff', 'dr_diff', 'ast_diff', 'to_diff', 'stl_diff', 'blk_diff', 'pf_diff']] += [point_diff, fgm_diff, fga_diff, fgm3_diff, fga3_diff, ftm_diff, fta_diff, or_diff, dr_diff, ast_diff, to_diff, stl_diff, blk_diff, pf_diff]\n",
    "\n",
    "    team_stats.loc[team_stats['team_id'] == row['lteam'], 'games'] += 1\n",
    "    team_stats.loc[team_stats['team_id'] == row['lteam'], ['points', 'fgm', 'fga', 'fgm3', 'fga3', 'ftm', 'fta', 'or', 'dr', 'ast', 'to', 'stl', 'blk', 'pf']] += [lscore, lfgm, lfga, lfgm3, lfga3, lftm, lfta, lor, ldr, last, lto, lstl, lblk, lpf]\n",
    "\n",
    "    team_stats.loc[team_stats['team_id'] == row['lteam'], ['points_diff', 'fgm_diff', 'fga_diff', 'fgm3_diff', 'fga3_diff', 'ftm_diff', 'fta_diff', 'or_diff', 'dr_diff', 'ast_diff', 'to_diff', 'stl_diff', 'blk_diff', 'pf_diff']] -= [point_diff, fgm_diff, fga_diff, fgm3_diff, fga3_diff, ftm_diff, fta_diff, or_diff, dr_diff, ast_diff, to_diff, stl_diff, blk_diff, pf_diff]"
   ]
  },
  {
   "cell_type": "markdown",
   "id": "0df1938d-456f-4085-98e7-3d5ca4256a47",
   "metadata": {},
   "source": [
    "Sada kada imamo sve što nam je potrebno, možemo izračunati postotak pobjeda te prosjeke statistika i spremiti ih u nove značajke."
   ]
  },
  {
   "cell_type": "code",
   "execution_count": 5,
   "id": "490632bc-9428-4eb7-a772-d83c501ea949",
   "metadata": {},
   "outputs": [],
   "source": [
    "team_stats['win_percentage'] = team_stats['wins'] / team_stats['games']\n",
    "team_stats['average_points'] = team_stats['points'] / team_stats['games']\n",
    "team_stats['average_fgm'] = team_stats['fgm'] / team_stats['games']\n",
    "team_stats['average_fga'] = team_stats['fga'] / team_stats['games']\n",
    "team_stats['average_fgm3'] = team_stats['fgm3'] / team_stats['games']\n",
    "team_stats['average_fga3'] = team_stats['fga3'] / team_stats['games']\n",
    "team_stats['average_ftm'] = team_stats['ftm'] / team_stats['games']\n",
    "team_stats['average_fta'] = team_stats['fta'] / team_stats['games']\n",
    "team_stats['average_or'] = team_stats['or'] / team_stats['games']\n",
    "team_stats['average_dr'] = team_stats['dr'] / team_stats['games']\n",
    "team_stats['average_ast'] = team_stats['ast'] / team_stats['games']\n",
    "team_stats['average_to'] = team_stats['to'] / team_stats['games']\n",
    "team_stats['average_stl'] = team_stats['stl'] / team_stats['games']\n",
    "team_stats['average_blk'] = team_stats['blk'] / team_stats['games']\n",
    "team_stats['average_pf'] = team_stats['pf'] / team_stats['games']"
   ]
  },
  {
   "cell_type": "markdown",
   "id": "26246eda-94fc-4b1c-9740-8597269604fa",
   "metadata": {},
   "source": [
    "Te također postotke uspješnih bacanja za tipove bacanja."
   ]
  },
  {
   "cell_type": "code",
   "execution_count": 6,
   "id": "0494f602-99e8-4fd4-b344-c19e847d03e2",
   "metadata": {},
   "outputs": [],
   "source": [
    "team_stats['fgm_percentage'] = team_stats['fgm'] / team_stats['fga']\n",
    "team_stats['fgm3_percentage'] = team_stats['fgm3'] / team_stats['fga3']\n",
    "team_stats['ftm_percentage'] = team_stats['ftm'] / team_stats['fta']"
   ]
  },
  {
   "cell_type": "markdown",
   "id": "6dc09570-0861-49ec-87d1-dc35082840da",
   "metadata": {},
   "source": [
    "Za kraj je potrebno izbaciti redke za nedostajućim vrijednostima jer one sadrže informacije o momčadima koje nije igrale niti jednu utakmicu u tome razdoblju te za njih ne možemo raditi nikakve predikcije"
   ]
  },
  {
   "cell_type": "code",
   "execution_count": 7,
   "id": "d358080d-489a-4f11-a6d0-a63c97342d9f",
   "metadata": {},
   "outputs": [],
   "source": [
    "team_stats.dropna(inplace=True)"
   ]
  },
  {
   "cell_type": "code",
   "execution_count": 8,
   "id": "992b7a15-0abd-47ff-9fda-113b5b61bcbd",
   "metadata": {},
   "outputs": [
    {
     "data": {
      "text/html": [
       "<div>\n",
       "<style scoped>\n",
       "    .dataframe tbody tr th:only-of-type {\n",
       "        vertical-align: middle;\n",
       "    }\n",
       "\n",
       "    .dataframe tbody tr th {\n",
       "        vertical-align: top;\n",
       "    }\n",
       "\n",
       "    .dataframe thead th {\n",
       "        text-align: right;\n",
       "    }\n",
       "</style>\n",
       "<table border=\"1\" class=\"dataframe\">\n",
       "  <thead>\n",
       "    <tr style=\"text-align: right;\">\n",
       "      <th></th>\n",
       "      <th>team_id</th>\n",
       "      <th>games</th>\n",
       "      <th>wins</th>\n",
       "      <th>points</th>\n",
       "      <th>fgm</th>\n",
       "      <th>fga</th>\n",
       "      <th>fgm3</th>\n",
       "      <th>fga3</th>\n",
       "      <th>ftm</th>\n",
       "      <th>fta</th>\n",
       "      <th>...</th>\n",
       "      <th>average_or</th>\n",
       "      <th>average_dr</th>\n",
       "      <th>average_ast</th>\n",
       "      <th>average_to</th>\n",
       "      <th>average_stl</th>\n",
       "      <th>average_blk</th>\n",
       "      <th>average_pf</th>\n",
       "      <th>fgm_percentage</th>\n",
       "      <th>fgm3_percentage</th>\n",
       "      <th>ftm_percentage</th>\n",
       "    </tr>\n",
       "  </thead>\n",
       "  <tbody>\n",
       "    <tr>\n",
       "      <th>0</th>\n",
       "      <td>1101</td>\n",
       "      <td>21</td>\n",
       "      <td>2</td>\n",
       "      <td>1326</td>\n",
       "      <td>427</td>\n",
       "      <td>1053</td>\n",
       "      <td>140</td>\n",
       "      <td>375</td>\n",
       "      <td>332</td>\n",
       "      <td>445</td>\n",
       "      <td>...</td>\n",
       "      <td>8.000000</td>\n",
       "      <td>20.333333</td>\n",
       "      <td>10.000000</td>\n",
       "      <td>15.000000</td>\n",
       "      <td>5.761905</td>\n",
       "      <td>1.476190</td>\n",
       "      <td>21.571429</td>\n",
       "      <td>0.405508</td>\n",
       "      <td>0.373333</td>\n",
       "      <td>0.746067</td>\n",
       "    </tr>\n",
       "    <tr>\n",
       "      <th>1</th>\n",
       "      <td>1102</td>\n",
       "      <td>111</td>\n",
       "      <td>50</td>\n",
       "      <td>7175</td>\n",
       "      <td>2493</td>\n",
       "      <td>5510</td>\n",
       "      <td>789</td>\n",
       "      <td>2224</td>\n",
       "      <td>1400</td>\n",
       "      <td>2002</td>\n",
       "      <td>...</td>\n",
       "      <td>6.828829</td>\n",
       "      <td>22.441441</td>\n",
       "      <td>14.432432</td>\n",
       "      <td>12.576577</td>\n",
       "      <td>5.990991</td>\n",
       "      <td>2.540541</td>\n",
       "      <td>17.738739</td>\n",
       "      <td>0.452450</td>\n",
       "      <td>0.354766</td>\n",
       "      <td>0.699301</td>\n",
       "    </tr>\n",
       "    <tr>\n",
       "      <th>2</th>\n",
       "      <td>1103</td>\n",
       "      <td>132</td>\n",
       "      <td>89</td>\n",
       "      <td>9235</td>\n",
       "      <td>3253</td>\n",
       "      <td>7357</td>\n",
       "      <td>914</td>\n",
       "      <td>2614</td>\n",
       "      <td>1815</td>\n",
       "      <td>2739</td>\n",
       "      <td>...</td>\n",
       "      <td>11.590909</td>\n",
       "      <td>23.810606</td>\n",
       "      <td>13.446970</td>\n",
       "      <td>13.333333</td>\n",
       "      <td>6.818182</td>\n",
       "      <td>4.363636</td>\n",
       "      <td>18.325758</td>\n",
       "      <td>0.442164</td>\n",
       "      <td>0.349656</td>\n",
       "      <td>0.662651</td>\n",
       "    </tr>\n",
       "    <tr>\n",
       "      <th>3</th>\n",
       "      <td>1104</td>\n",
       "      <td>128</td>\n",
       "      <td>74</td>\n",
       "      <td>8339</td>\n",
       "      <td>2992</td>\n",
       "      <td>6783</td>\n",
       "      <td>621</td>\n",
       "      <td>1967</td>\n",
       "      <td>1734</td>\n",
       "      <td>2469</td>\n",
       "      <td>...</td>\n",
       "      <td>10.906250</td>\n",
       "      <td>23.273438</td>\n",
       "      <td>11.468750</td>\n",
       "      <td>12.835938</td>\n",
       "      <td>7.867188</td>\n",
       "      <td>4.515625</td>\n",
       "      <td>18.359375</td>\n",
       "      <td>0.441103</td>\n",
       "      <td>0.315709</td>\n",
       "      <td>0.702309</td>\n",
       "    </tr>\n",
       "    <tr>\n",
       "      <th>4</th>\n",
       "      <td>1105</td>\n",
       "      <td>108</td>\n",
       "      <td>36</td>\n",
       "      <td>6732</td>\n",
       "      <td>2357</td>\n",
       "      <td>5896</td>\n",
       "      <td>555</td>\n",
       "      <td>1821</td>\n",
       "      <td>1463</td>\n",
       "      <td>2280</td>\n",
       "      <td>...</td>\n",
       "      <td>11.111111</td>\n",
       "      <td>23.611111</td>\n",
       "      <td>11.546296</td>\n",
       "      <td>14.833333</td>\n",
       "      <td>6.500000</td>\n",
       "      <td>4.138889</td>\n",
       "      <td>20.416667</td>\n",
       "      <td>0.399763</td>\n",
       "      <td>0.304778</td>\n",
       "      <td>0.641667</td>\n",
       "    </tr>\n",
       "    <tr>\n",
       "      <th>...</th>\n",
       "      <td>...</td>\n",
       "      <td>...</td>\n",
       "      <td>...</td>\n",
       "      <td>...</td>\n",
       "      <td>...</td>\n",
       "      <td>...</td>\n",
       "      <td>...</td>\n",
       "      <td>...</td>\n",
       "      <td>...</td>\n",
       "      <td>...</td>\n",
       "      <td>...</td>\n",
       "      <td>...</td>\n",
       "      <td>...</td>\n",
       "      <td>...</td>\n",
       "      <td>...</td>\n",
       "      <td>...</td>\n",
       "      <td>...</td>\n",
       "      <td>...</td>\n",
       "      <td>...</td>\n",
       "      <td>...</td>\n",
       "      <td>...</td>\n",
       "    </tr>\n",
       "    <tr>\n",
       "      <th>359</th>\n",
       "      <td>1460</td>\n",
       "      <td>126</td>\n",
       "      <td>67</td>\n",
       "      <td>7869</td>\n",
       "      <td>2683</td>\n",
       "      <td>6278</td>\n",
       "      <td>772</td>\n",
       "      <td>2193</td>\n",
       "      <td>1731</td>\n",
       "      <td>2393</td>\n",
       "      <td>...</td>\n",
       "      <td>7.865079</td>\n",
       "      <td>20.666667</td>\n",
       "      <td>11.285714</td>\n",
       "      <td>12.698413</td>\n",
       "      <td>6.738095</td>\n",
       "      <td>1.904762</td>\n",
       "      <td>19.492063</td>\n",
       "      <td>0.427365</td>\n",
       "      <td>0.352029</td>\n",
       "      <td>0.723360</td>\n",
       "    </tr>\n",
       "    <tr>\n",
       "      <th>360</th>\n",
       "      <td>1461</td>\n",
       "      <td>118</td>\n",
       "      <td>59</td>\n",
       "      <td>7424</td>\n",
       "      <td>2542</td>\n",
       "      <td>5762</td>\n",
       "      <td>684</td>\n",
       "      <td>2123</td>\n",
       "      <td>1656</td>\n",
       "      <td>2375</td>\n",
       "      <td>...</td>\n",
       "      <td>7.330508</td>\n",
       "      <td>21.983051</td>\n",
       "      <td>11.355932</td>\n",
       "      <td>11.762712</td>\n",
       "      <td>6.169492</td>\n",
       "      <td>3.516949</td>\n",
       "      <td>16.932203</td>\n",
       "      <td>0.441166</td>\n",
       "      <td>0.322186</td>\n",
       "      <td>0.697263</td>\n",
       "    </tr>\n",
       "    <tr>\n",
       "      <th>361</th>\n",
       "      <td>1462</td>\n",
       "      <td>132</td>\n",
       "      <td>85</td>\n",
       "      <td>9253</td>\n",
       "      <td>3251</td>\n",
       "      <td>7062</td>\n",
       "      <td>661</td>\n",
       "      <td>1913</td>\n",
       "      <td>2090</td>\n",
       "      <td>2984</td>\n",
       "      <td>...</td>\n",
       "      <td>10.727273</td>\n",
       "      <td>24.939394</td>\n",
       "      <td>13.128788</td>\n",
       "      <td>12.500000</td>\n",
       "      <td>5.659091</td>\n",
       "      <td>3.151515</td>\n",
       "      <td>18.295455</td>\n",
       "      <td>0.460351</td>\n",
       "      <td>0.345531</td>\n",
       "      <td>0.700402</td>\n",
       "    </tr>\n",
       "    <tr>\n",
       "      <th>362</th>\n",
       "      <td>1463</td>\n",
       "      <td>109</td>\n",
       "      <td>57</td>\n",
       "      <td>7196</td>\n",
       "      <td>2388</td>\n",
       "      <td>5667</td>\n",
       "      <td>592</td>\n",
       "      <td>1805</td>\n",
       "      <td>1828</td>\n",
       "      <td>2548</td>\n",
       "      <td>...</td>\n",
       "      <td>10.963303</td>\n",
       "      <td>23.743119</td>\n",
       "      <td>11.926606</td>\n",
       "      <td>13.798165</td>\n",
       "      <td>5.522936</td>\n",
       "      <td>3.816514</td>\n",
       "      <td>18.926606</td>\n",
       "      <td>0.421387</td>\n",
       "      <td>0.327978</td>\n",
       "      <td>0.717425</td>\n",
       "    </tr>\n",
       "    <tr>\n",
       "      <th>363</th>\n",
       "      <td>1464</td>\n",
       "      <td>115</td>\n",
       "      <td>47</td>\n",
       "      <td>8009</td>\n",
       "      <td>2811</td>\n",
       "      <td>6532</td>\n",
       "      <td>880</td>\n",
       "      <td>2507</td>\n",
       "      <td>1507</td>\n",
       "      <td>2231</td>\n",
       "      <td>...</td>\n",
       "      <td>9.356522</td>\n",
       "      <td>23.182609</td>\n",
       "      <td>13.895652</td>\n",
       "      <td>11.626087</td>\n",
       "      <td>6.304348</td>\n",
       "      <td>4.478261</td>\n",
       "      <td>18.356522</td>\n",
       "      <td>0.430343</td>\n",
       "      <td>0.351017</td>\n",
       "      <td>0.675482</td>\n",
       "    </tr>\n",
       "  </tbody>\n",
       "</table>\n",
       "<p>352 rows × 49 columns</p>\n",
       "</div>"
      ],
      "text/plain": [
       "     team_id  games  wins  points   fgm   fga  fgm3  fga3   ftm   fta  ...  \\\n",
       "0       1101     21     2    1326   427  1053   140   375   332   445  ...   \n",
       "1       1102    111    50    7175  2493  5510   789  2224  1400  2002  ...   \n",
       "2       1103    132    89    9235  3253  7357   914  2614  1815  2739  ...   \n",
       "3       1104    128    74    8339  2992  6783   621  1967  1734  2469  ...   \n",
       "4       1105    108    36    6732  2357  5896   555  1821  1463  2280  ...   \n",
       "..       ...    ...   ...     ...   ...   ...   ...   ...   ...   ...  ...   \n",
       "359     1460    126    67    7869  2683  6278   772  2193  1731  2393  ...   \n",
       "360     1461    118    59    7424  2542  5762   684  2123  1656  2375  ...   \n",
       "361     1462    132    85    9253  3251  7062   661  1913  2090  2984  ...   \n",
       "362     1463    109    57    7196  2388  5667   592  1805  1828  2548  ...   \n",
       "363     1464    115    47    8009  2811  6532   880  2507  1507  2231  ...   \n",
       "\n",
       "     average_or  average_dr  average_ast  average_to  average_stl  \\\n",
       "0      8.000000   20.333333    10.000000   15.000000     5.761905   \n",
       "1      6.828829   22.441441    14.432432   12.576577     5.990991   \n",
       "2     11.590909   23.810606    13.446970   13.333333     6.818182   \n",
       "3     10.906250   23.273438    11.468750   12.835938     7.867188   \n",
       "4     11.111111   23.611111    11.546296   14.833333     6.500000   \n",
       "..          ...         ...          ...         ...          ...   \n",
       "359    7.865079   20.666667    11.285714   12.698413     6.738095   \n",
       "360    7.330508   21.983051    11.355932   11.762712     6.169492   \n",
       "361   10.727273   24.939394    13.128788   12.500000     5.659091   \n",
       "362   10.963303   23.743119    11.926606   13.798165     5.522936   \n",
       "363    9.356522   23.182609    13.895652   11.626087     6.304348   \n",
       "\n",
       "     average_blk  average_pf  fgm_percentage  fgm3_percentage  ftm_percentage  \n",
       "0       1.476190   21.571429        0.405508         0.373333        0.746067  \n",
       "1       2.540541   17.738739        0.452450         0.354766        0.699301  \n",
       "2       4.363636   18.325758        0.442164         0.349656        0.662651  \n",
       "3       4.515625   18.359375        0.441103         0.315709        0.702309  \n",
       "4       4.138889   20.416667        0.399763         0.304778        0.641667  \n",
       "..           ...         ...             ...              ...             ...  \n",
       "359     1.904762   19.492063        0.427365         0.352029        0.723360  \n",
       "360     3.516949   16.932203        0.441166         0.322186        0.697263  \n",
       "361     3.151515   18.295455        0.460351         0.345531        0.700402  \n",
       "362     3.816514   18.926606        0.421387         0.327978        0.717425  \n",
       "363     4.478261   18.356522        0.430343         0.351017        0.675482  \n",
       "\n",
       "[352 rows x 49 columns]"
      ]
     },
     "metadata": {},
     "output_type": "display_data"
    }
   ],
   "source": [
    "display(team_stats)"
   ]
  },
  {
   "cell_type": "markdown",
   "id": "312b2ab3-a4b1-4197-86f8-ba8ff8f8c723",
   "metadata": {},
   "source": [
    "## Treniranje regresijskih modela"
   ]
  },
  {
   "cell_type": "markdown",
   "id": "22adbfee-552f-4006-9d32-2137add06276",
   "metadata": {},
   "source": [
    "### Određivanje važnih značajki"
   ]
  },
  {
   "cell_type": "markdown",
   "id": "bad66339-aad2-407c-abbc-8e11a1bcf3cb",
   "metadata": {},
   "source": [
    "U članku su prvo odredili koje su važne značajke za predikciju, tj. koje značajke imaju visoku korelaciju sa postotkom pobjeda. <br>\n",
    "Pošto naši podatci ne sadrže značajke koje su korištene u članku poput 'RPI rank' i 'BPI', odredit ćemo najvažnije značajke na našim podatcima. <br>\n",
    "Također, uzet ćemo 6 najvažnijih značajki kao što je napravljeno u članku."
   ]
  },
  {
   "cell_type": "code",
   "execution_count": 9,
   "id": "bb3710cf-4537-43d1-b1da-e96e4c605cf2",
   "metadata": {},
   "outputs": [
    {
     "name": "stdout",
     "output_type": "stream",
     "text": [
      "wins              0.963265\n",
      "points_diff       0.953777\n",
      "fgm_diff          0.863150\n",
      "ast_diff          0.788545\n",
      "dr_diff           0.757239\n",
      "fgm_percentage    0.713098\n",
      "Name: win_percentage, dtype: float64\n"
     ]
    }
   ],
   "source": [
    "target_column = 'win_percentage'\n",
    "\n",
    "correlation_matrix = team_stats.corr()\n",
    "\n",
    "best_correlated_columns = correlation_matrix[target_column].abs().sort_values(ascending=False).index[1:]\n",
    "\n",
    "best_correlations = correlation_matrix.loc[target_column, best_correlated_columns]\n",
    "print(best_correlations[:6])"
   ]
  },
  {
   "cell_type": "markdown",
   "id": "cdf3f624-3839-40a3-9b10-79a5a529e2cd",
   "metadata": {},
   "source": [
    "### Priprema podataka za treniranje"
   ]
  },
  {
   "cell_type": "markdown",
   "id": "bbfb20b7-6aaa-4194-8e85-ac0e29d8b028",
   "metadata": {},
   "source": [
    "Potrebno je izvaditi podatke važnih značajki za treniranje modela. <br>\n",
    "Također ćemo napraviti skaliranje podataka kako bi osigurali da izlaz regresijskog modela bude između 0 i 1 te predstavlja vjerojatnost pobjede prema jednoj značajki."
   ]
  },
  {
   "cell_type": "code",
   "execution_count": 10,
   "id": "c08f4202-e576-4ab2-ba16-a0d62f0b4089",
   "metadata": {},
   "outputs": [],
   "source": [
    "train_data = pd.DataFrame()\n",
    "train_data['wins'] = 2 * (team_stats['wins'].max() - team_stats['wins'].min()) * (team_stats['wins'] - team_stats['wins'].min()) / (team_stats['wins'].max() - team_stats['wins'].min()) - (team_stats['wins'].max() - team_stats['wins'].min())\n",
    "train_data['points_diff'] = 2 * (team_stats['points_diff'].max() - team_stats['points_diff'].min()) * (team_stats['points_diff'] - team_stats['points_diff'].min()) / (team_stats['points_diff'].max() - team_stats['points_diff'].min()) - (team_stats['points_diff'].max() - team_stats['points_diff'].min())\n",
    "train_data['fgm_diff'] = 2 * (team_stats['fgm_diff'].max() - team_stats['fgm_diff'].min()) * (team_stats['fgm_diff'] - team_stats['fgm_diff'].min()) / (team_stats['fgm_diff'].max() - team_stats['fgm_diff'].min()) - (team_stats['fgm_diff'].max() - team_stats['fgm_diff'].min())\n",
    "train_data['ast_diff'] = 2 * (team_stats['ast_diff'].max() - team_stats['ast_diff'].min()) * (team_stats['ast_diff'] - team_stats['ast_diff'].min()) / (team_stats['ast_diff'].max() - team_stats['ast_diff'].min()) - (team_stats['ast_diff'].max() - team_stats['ast_diff'].min())\n",
    "train_data['dr_diff'] = 2 * (team_stats['dr_diff'].max() - team_stats['dr_diff'].min()) * (team_stats['dr_diff'] - team_stats['dr_diff'].min()) / (team_stats['dr_diff'].max() - team_stats['dr_diff'].min()) - (team_stats['dr_diff'].max() - team_stats['dr_diff'].min())\n",
    "train_data['fgm_percentage'] = 2 * (team_stats['fgm_percentage'].max() - team_stats['fgm_percentage'].min()) * (team_stats['fgm_percentage'] - team_stats['fgm_percentage'].min()) / (team_stats['fgm_percentage'].max() - team_stats['fgm_percentage'].min()) - (team_stats['fgm_percentage'].max() - team_stats['fgm_percentage'].min())"
   ]
  },
  {
   "cell_type": "markdown",
   "id": "4e9398c1-7e05-48e0-bcd4-ea6c4b72c262",
   "metadata": {},
   "source": [
    "U 'y' ćemo spremiti sve vrijednosti značajke postotak pobjeda te ju koristiti kao ciljnu varijablu."
   ]
  },
  {
   "cell_type": "code",
   "execution_count": 11,
   "id": "970a5572-4267-4386-89cc-086a6887cafc",
   "metadata": {},
   "outputs": [],
   "source": [
    "y = team_stats['win_percentage'].values"
   ]
  },
  {
   "cell_type": "markdown",
   "id": "f35816c3-c79c-4bce-9757-ec13cf6d658d",
   "metadata": {},
   "source": [
    "### Treniranje modela"
   ]
  },
  {
   "cell_type": "markdown",
   "id": "532b72d3-5c91-4417-ba29-5f0535209473",
   "metadata": {},
   "source": [
    "Pošto repliciramo članak, moramo napraviti regresijske modele za svaku značajku. <br>\n",
    "Ti modeli vraćaju vjerojatnost pobjede za svaku značajku. <br>\n",
    "Model je polinomijalni regresijski model 2. stupnja (kvadratni). <br>\n",
    "Modele ćemo pospremiti u riječnik 'models' za lakše kasnije korištenje te ćemo prikazati grafove njihovih funkcija."
   ]
  },
  {
   "cell_type": "code",
   "execution_count": 12,
   "id": "785e0154-1ee9-47ed-bd49-c37189a673a8",
   "metadata": {},
   "outputs": [
    {
     "data": {
      "image/png": "[encoded data removed]",
      "text/plain": [
       "<Figure size 1200x800 with 6 Axes>"
      ]
     },
     "metadata": {},
     "output_type": "display_data"
    }
   ],
   "source": [
    "from sklearn.linear_model import LinearRegression\n",
    "from sklearn.preprocessing import PolynomialFeatures\n",
    "\n",
    "models = {}\n",
    "models['wins'] = LinearRegression()\n",
    "models['wins'].fit(PolynomialFeatures(degree=2).fit_transform(train_data['wins'].values.reshape(-1, 1)), y)\n",
    "models['points_diff'] = LinearRegression()\n",
    "models['points_diff'].fit(PolynomialFeatures(degree=2).fit_transform(train_data['points_diff'].values.reshape(-1, 1)), y)\n",
    "models['fgm_diff'] = LinearRegression()\n",
    "models['fgm_diff'].fit(PolynomialFeatures(degree=2).fit_transform(train_data['fgm_diff'].values.reshape(-1, 1)), y)\n",
    "models['ast_diff'] = LinearRegression()\n",
    "models['ast_diff'].fit(PolynomialFeatures(degree=2).fit_transform(train_data['ast_diff'].values.reshape(-1, 1)), y)\n",
    "models['dr_diff'] = LinearRegression()\n",
    "models['dr_diff'].fit(PolynomialFeatures(degree=2).fit_transform(train_data['dr_diff'].values.reshape(-1, 1)), y)\n",
    "models['fgm_percentage'] = LinearRegression()\n",
    "models['fgm_percentage'].fit(PolynomialFeatures(degree=2).fit_transform(train_data['fgm_percentage'].values.reshape(-1, 1)), y)\n",
    "\n",
    "fig, axs = plt.subplots(2, 3, sharey=True, figsize=(12, 8))\n",
    "axs[0, 0].scatter(train_data['wins'].values, models['wins'].predict(PolynomialFeatures(degree=2).fit_transform(train_data['wins'].values.reshape(-1, 1))))\n",
    "axs[0, 0].set_title('Wins')\n",
    "\n",
    "axs[0, 1].scatter(train_data['points_diff'].values, models['points_diff'].predict(PolynomialFeatures(degree=2).fit_transform(train_data['points_diff'].values.reshape(-1, 1))))\n",
    "axs[0, 1].set_title('Points_diff')\n",
    "\n",
    "axs[0, 2].scatter(train_data['fgm_diff'].values, models['fgm_diff'].predict(PolynomialFeatures(degree=2).fit_transform(train_data['fgm_diff'].values.reshape(-1, 1))))\n",
    "axs[0, 2].set_title('Fgm_diff')\n",
    "\n",
    "axs[1, 0].scatter(train_data['ast_diff'].values, models['ast_diff'].predict(PolynomialFeatures(degree=2).fit_transform(train_data['ast_diff'].values.reshape(-1, 1))))\n",
    "axs[1, 0].set_title('Ast_diff')\n",
    "\n",
    "axs[1, 1].scatter(train_data['dr_diff'].values, models['dr_diff'].predict(PolynomialFeatures(degree=2).fit_transform(train_data['dr_diff'].values.reshape(-1, 1))))\n",
    "axs[1, 1].set_title('Dr_diff')\n",
    "\n",
    "axs[1, 2].scatter(train_data['fgm_percentage'].values, models['fgm_percentage'].predict(PolynomialFeatures(degree=2).fit_transform(train_data['fgm_percentage'].values.reshape(-1, 1))))\n",
    "axs[1, 2].set_title('Fgm_percentage')\n",
    "\n",
    "fig.text(0.5, 0.04, 'X-axis Label', ha='center', va='center')\n",
    "fig.text(0.06, 0.5, 'Y-axis Label', ha='center', va='center', rotation='vertical')\n",
    "plt.show()"
   ]
  },
  {
   "cell_type": "markdown",
   "id": "abc18978-6e53-4387-b7b1-76ab9c7ca704",
   "metadata": {},
   "source": [
    "## Izrada agregatnog modela"
   ]
  },
  {
   "cell_type": "markdown",
   "id": "0d93dc89-b09b-435a-8b6c-4ff14890ba04",
   "metadata": {},
   "source": [
    "Sada možemo izgraditi agregatni model koji će koristiti već trenirane regresije. <br>\n",
    "Koristimo funkciju 'callProbWin' koja će vratiti vjerojatnost pobjede za jednu značajku na temulju razlike vrijednosti značajke između dvije momčadi. <br>\n",
    "Koristeći apsolutne vrijednosti razlike te gledajući predznak i vračanje '1 - y' osiguravamo da ne ovisimo o redosljedu momčadi te u konačnici imamo osigurano je zbroj vjerojatnosti da prva momčad pobijedi drugu i da druga pobijedi prvu je uvijek jednako 1. <br><br>\n",
    "Funkcija 'predWin' je implementacija konačnog agregatnog modela za predikciju. <br>\n",
    "Implementirana je na način da prima proizvoljnje važne značajke V te regresijske modele za svaku značajku iz V. <br>\n",
    "Funkcija kao vjerojatnost pobjede vraća prosjećnu vrijednost vjerojatnosti svake regresije."
   ]
  },
  {
   "cell_type": "code",
   "execution_count": 13,
   "id": "4f9b8c1b-1f25-4788-985e-04df1877331d",
   "metadata": {},
   "outputs": [],
   "source": [
    "def callProbWin(w, l, model):\n",
    "    x = abs(w - l)\n",
    "    y = model.predict(PolynomialFeatures(degree=2).fit_transform(np.array(x).reshape(1, 1)))[0]\n",
    "    if (w - l) < 0:\n",
    "        return 1 - y\n",
    "    return y\n",
    "\n",
    "def predWin(df, V, models, id_1, id_2):\n",
    "    sum_prob = 0\n",
    "    for v in V:\n",
    "        w_search = df.loc[df['team_id'] == id_1, v].values\n",
    "        if w_search.size > 0:\n",
    "            w = w_search[0]\n",
    "        else:\n",
    "            return \"Unknown\"\n",
    "        l_search = df.loc[df['team_id'] == id_2, v].values\n",
    "        if l_search.size > 0:\n",
    "            l = l_search[0]\n",
    "        else:\n",
    "            return \"Unknown\"\n",
    "        model = models[v]\n",
    "        sum_prob += callProbWin(w, l, model)\n",
    "    return (sum_prob / len(V))"
   ]
  },
  {
   "cell_type": "markdown",
   "id": "8e252691-ee00-40fe-966e-c3e14df8cf18",
   "metadata": {},
   "source": [
    "## Predikcije vjerojatnosti pobjeda"
   ]
  },
  {
   "cell_type": "markdown",
   "id": "66bb25b9-74a4-4ff0-9260-030f55f1a7cc",
   "metadata": {},
   "source": [
    "Prvo ćemo spremiti imena naših važnih značajki u listu V."
   ]
  },
  {
   "cell_type": "code",
   "execution_count": 14,
   "id": "473b9f99-9ed8-46d1-ad5f-753544b60d00",
   "metadata": {},
   "outputs": [],
   "source": [
    "V = [\"wins\", \"points_diff\", \"fgm_diff\", \"ast_diff\", \"dr_diff\", \"fgm_percentage\"]"
   ]
  },
  {
   "cell_type": "markdown",
   "id": "146babd8-00d6-48ef-9eea-ddf888d53647",
   "metadata": {},
   "source": [
    "Napravit ćemo predikcije modela za svaku kombinaciju para momčadi i spremiti u novi dataFrame."
   ]
  },
  {
   "cell_type": "code",
   "execution_count": 15,
   "id": "c65db8ec-4964-40d7-9f08-57dd4c8dc4f3",
   "metadata": {},
   "outputs": [],
   "source": [
    "import itertools\n",
    "\n",
    "team_ids = team_stats['team_id'].tolist()\n",
    "team_id_combinations = list(itertools.permutations(team_ids, 2))\n",
    "\n",
    "team_dict = t.set_index('team_id')['team_name'].to_dict()\n",
    "\n",
    "pairs = []\n",
    "predictions = []\n",
    "for id_1, id_2 in team_id_combinations:\n",
    "    name_1 = team_dict[id_1]\n",
    "    name_2 = team_dict[id_2]\n",
    "    pairs.append(name_1 + \"_\" + name_2)\n",
    "    pred = predWin(team_stats, V, models, id_1, id_2)\n",
    "    predictions.append(pred)\n",
    "\n",
    "data = {\n",
    "    \"id\" : pairs,\n",
    "    \"pred\": predictions\n",
    "}\n",
    "\n",
    "predicted_pairs = pd.DataFrame(data)"
   ]
  },
  {
   "cell_type": "code",
   "execution_count": 16,
   "id": "0204b845-7497-4383-afd0-10c3227e8608",
   "metadata": {},
   "outputs": [
    {
     "data": {
      "text/html": [
       "<div>\n",
       "<style scoped>\n",
       "    .dataframe tbody tr th:only-of-type {\n",
       "        vertical-align: middle;\n",
       "    }\n",
       "\n",
       "    .dataframe tbody tr th {\n",
       "        vertical-align: top;\n",
       "    }\n",
       "\n",
       "    .dataframe thead th {\n",
       "        text-align: right;\n",
       "    }\n",
       "</style>\n",
       "<table border=\"1\" class=\"dataframe\">\n",
       "  <thead>\n",
       "    <tr style=\"text-align: right;\">\n",
       "      <th></th>\n",
       "      <th>id</th>\n",
       "      <th>pred</th>\n",
       "    </tr>\n",
       "  </thead>\n",
       "  <tbody>\n",
       "    <tr>\n",
       "      <th>0</th>\n",
       "      <td>Abilene Chr_Air Force</td>\n",
       "      <td>0.445729</td>\n",
       "    </tr>\n",
       "    <tr>\n",
       "      <th>1</th>\n",
       "      <td>Abilene Chr_Akron</td>\n",
       "      <td>0.370317</td>\n",
       "    </tr>\n",
       "    <tr>\n",
       "      <th>2</th>\n",
       "      <td>Abilene Chr_Alabama</td>\n",
       "      <td>0.380347</td>\n",
       "    </tr>\n",
       "    <tr>\n",
       "      <th>3</th>\n",
       "      <td>Abilene Chr_Alabama A&amp;M</td>\n",
       "      <td>0.491438</td>\n",
       "    </tr>\n",
       "    <tr>\n",
       "      <th>4</th>\n",
       "      <td>Abilene Chr_Alabama St</td>\n",
       "      <td>0.503427</td>\n",
       "    </tr>\n",
       "    <tr>\n",
       "      <th>...</th>\n",
       "      <td>...</td>\n",
       "      <td>...</td>\n",
       "    </tr>\n",
       "    <tr>\n",
       "      <th>123547</th>\n",
       "      <td>Youngstown St_Wofford</td>\n",
       "      <td>0.433075</td>\n",
       "    </tr>\n",
       "    <tr>\n",
       "      <th>123548</th>\n",
       "      <td>Youngstown St_Wright St</td>\n",
       "      <td>0.471308</td>\n",
       "    </tr>\n",
       "    <tr>\n",
       "      <th>123549</th>\n",
       "      <td>Youngstown St_Wyoming</td>\n",
       "      <td>0.455927</td>\n",
       "    </tr>\n",
       "    <tr>\n",
       "      <th>123550</th>\n",
       "      <td>Youngstown St_Xavier</td>\n",
       "      <td>0.408390</td>\n",
       "    </tr>\n",
       "    <tr>\n",
       "      <th>123551</th>\n",
       "      <td>Youngstown St_Yale</td>\n",
       "      <td>0.474867</td>\n",
       "    </tr>\n",
       "  </tbody>\n",
       "</table>\n",
       "<p>123552 rows × 2 columns</p>\n",
       "</div>"
      ],
      "text/plain": [
       "                             id      pred\n",
       "0         Abilene Chr_Air Force  0.445729\n",
       "1             Abilene Chr_Akron  0.370317\n",
       "2           Abilene Chr_Alabama  0.380347\n",
       "3       Abilene Chr_Alabama A&M  0.491438\n",
       "4        Abilene Chr_Alabama St  0.503427\n",
       "...                         ...       ...\n",
       "123547    Youngstown St_Wofford  0.433075\n",
       "123548  Youngstown St_Wright St  0.471308\n",
       "123549    Youngstown St_Wyoming  0.455927\n",
       "123550     Youngstown St_Xavier  0.408390\n",
       "123551       Youngstown St_Yale  0.474867\n",
       "\n",
       "[123552 rows x 2 columns]"
      ]
     },
     "metadata": {},
     "output_type": "display_data"
    }
   ],
   "source": [
    "display(predicted_pairs)"
   ]
  },
  {
   "cell_type": "markdown",
   "id": "a181343e-0b07-4051-aed8-4f45ff57932f",
   "metadata": {},
   "source": [
    "Spremit ćemo naše predikcije u zasebnu csv datoteku."
   ]
  },
  {
   "cell_type": "code",
   "execution_count": 17,
   "id": "caf572e2-c3a5-427b-ad6f-8eea4114ae48",
   "metadata": {},
   "outputs": [],
   "source": [
    "predicted_pairs.to_csv('data/predicted_pairs.csv', index=False)"
   ]
  },
  {
   "cell_type": "markdown",
   "id": "1de25713-feae-4369-9cb7-d8701a25dd4a",
   "metadata": {},
   "source": [
    "## Evaluacija i usporedba rezultata"
   ]
  },
  {
   "cell_type": "markdown",
   "id": "f69b892e-f28b-456a-8068-ec88246864f1",
   "metadata": {},
   "source": [
    "Za kraj nam je ostalo napraviti evaluaciju rezultata i usporediti ih sa rezultatima iz članka. <br><br>\n",
    "Testirat ćemo rezulatate naših predikcija na završnom turniru iz 2014. kao što je napravljeno u članku.<br>\n",
    "Za evaluaciju naših regresija, tj. agregatne vjerojatnosti koristit ćemo pogrešku unakrsne provjere (logLoss). <br>\n",
    "Također ćemo model koristit za klasifikaciju gdje ćemo vjerojatnost veću ili jednaku od 50% gledati kao pobjedu."
   ]
  },
  {
   "cell_type": "code",
   "execution_count": 18,
   "id": "62d82c6a-9f34-4262-a226-4db6053a3347",
   "metadata": {},
   "outputs": [
    {
     "name": "stdout",
     "output_type": "stream",
     "text": [
      "Pogreška unakrsne provjere: 0.6429443422780937\n"
     ]
    }
   ],
   "source": [
    "import math, random\n",
    "from sklearn.metrics import accuracy_score, confusion_matrix, precision_score, recall_score, f1_score\n",
    "\n",
    "matches = tdr.loc[tdr['season'] == 2014, ['wteam', 'lteam']].values.tolist()\n",
    "for i, match in enumerate(matches):\n",
    "    matches[i] = (match[0], match[1])\n",
    "logLoss = 0\n",
    "pred_proba = []\n",
    "pred = []\n",
    "y_val = [1] * len(matches)\n",
    "\n",
    "num_pairs_to_swap = int(len(matches) * 50 / 100)\n",
    "pairs_to_swap = random.sample(matches, num_pairs_to_swap)\n",
    "\n",
    "for i, match in enumerate(matches):\n",
    "    if match in pairs_to_swap:\n",
    "        matches[i] = (match[1], match[0])\n",
    "        y_val[i] = 0\n",
    "\n",
    "for i, match in enumerate(matches):\n",
    "    pair_id = team_dict[match[0]] + \"_\" + team_dict[match[1]]\n",
    "    logLoss += y_val[i] * math.log(predicted_pairs.loc[predicted_pairs['id'] == pair_id, 'pred'].values[0]) + (1 - y_val[i]) * math.log(1 - predicted_pairs.loc[predicted_pairs['id'] == pair_id, 'pred'].values[0])\n",
    "    if predicted_pairs.loc[predicted_pairs['id'] == pair_id, 'pred'].values[0] >= 0.5:\n",
    "        pred.append(1)\n",
    "    else:\n",
    "        pred.append(0)\n",
    "    pred_proba.append(predicted_pairs.loc[predicted_pairs['id'] == pair_id, 'pred'].values[0])\n",
    "    \n",
    "logLoss /= (-len(matches))\n",
    "print(\"Pogreška unakrsne provjere:\", logLoss)"
   ]
  },
  {
   "cell_type": "markdown",
   "id": "3a16192d-aa61-4a08-baf8-1679e62ea715",
   "metadata": {},
   "source": [
    "Za početak možemo vidjeti da je pogreška unakrsne provjere veća od pogreške modela iz članka(0.56411), veća od prosjećne pogreške svih modela iz natjecanja(0.57551), ali manja od medijana pogreška modela iz članka(0.65559), što nije loš rezultat. <br>\n",
    "Razlika između pogreške modela iz članka i našeg leži u tome što nama nisu bili dostupni podaci za značajke 'RPI rank' i 'BPI', za koje je u članku navedeno da su one imale najveću važnost u predikciji, pa je njihov model odlučniji od našeg. <br><br>\n",
    "\n",
    "No ostaje za vidjeti kako naš model odrađuje klasifikaciju."
   ]
  },
  {
   "cell_type": "code",
   "execution_count": 19,
   "id": "324faf08-1d47-4060-8314-4344fdc32f3a",
   "metadata": {},
   "outputs": [
    {
     "name": "stdout",
     "output_type": "stream",
     "text": [
      "Matrica zabune:\n",
      "[[22 11]\n",
      " [11 23]]\n",
      "Točnost: 0.6716417910447762\n",
      "Preciznost: 0.6764705882352942\n",
      "Odziv: 0.6764705882352942\n",
      "F1 Score: 0.6764705882352942\n"
     ]
    }
   ],
   "source": [
    "conf_matrix = confusion_matrix(y_val, pred)\n",
    "print(\"Matrica zabune:\")\n",
    "print(conf_matrix)\n",
    "\n",
    "accuracy = accuracy_score(y_val, pred)\n",
    "print(\"Točnost:\", accuracy)\n",
    "\n",
    "precision = precision_score(y_val, pred)\n",
    "print(\"Preciznost:\", precision)\n",
    "\n",
    "recall = recall_score(y_val, pred)\n",
    "print(\"Odziv:\", recall)\n",
    "\n",
    "f1 = f1_score(y_val, pred)\n",
    "print(\"F1 Score:\", f1)"
   ]
  },
  {
   "cell_type": "markdown",
   "id": "4cd3134d-e57b-4e07-b96e-42cbcb9a29fe",
   "metadata": {},
   "source": [
    "Od ovih metrika u članku je navedena jedino točnost koja njima iznosi 0.66, pa prema tome naš model ima malo veću točnost u klasifikaciji. <br>\n",
    "Unatoč tome što njohov model je odlučniji što se tiče vjerojatnosti, oba modela su jednako dobra u klasificiranju. <br>\n",
    "S te strane možemo zaključiti da smo uspješno replicirali rezultate članka. <br><br>\n",
    "\n",
    "Za kraj ćemo još prikazati ROC krivulju i AUC."
   ]
  },
  {
   "cell_type": "code",
   "execution_count": 20,
   "id": "4ee67762-14c9-4b7f-8b08-c6106a7e98eb",
   "metadata": {},
   "outputs": [
    {
     "data": {
      "image/png": "[encoded data removed]",
      "text/plain": [
       "<Figure size 800x800 with 1 Axes>"
      ]
     },
     "metadata": {},
     "output_type": "display_data"
    }
   ],
   "source": [
    "from sklearn.metrics import roc_curve, auc\n",
    "\n",
    "fpr, tpr, thresholds = roc_curve(y_val, pred_proba)\n",
    "roc_auc = auc(fpr, tpr)\n",
    "plt.figure(figsize=(8, 8))\n",
    "plt.plot(fpr, tpr, color='darkorange', lw=2, label='ROC curve (AUC = {:.2f})'.format(roc_auc))\n",
    "plt.plot([0, 1], [0, 1], color='navy', lw=2, linestyle='--')\n",
    "plt.xlim([0.0, 1.0])\n",
    "plt.ylim([0.0, 1.05])\n",
    "plt.xlabel('False Positive Rate')\n",
    "plt.ylabel('True Positive Rate')\n",
    "plt.title('Receiver Operating Characteristic (ROC) Curve')\n",
    "plt.legend(loc=\"lower right\")\n",
    "plt.show()"
   ]
  }
 ],
 "metadata": {
  "kernelspec": {
   "display_name": "Python 3 (ipykernel)",
   "language": "python",
   "name": "python3"
  },
  "language_info": {
   "codemirror_mode": {
    "name": "ipython",
    "version": 3
   },
   "file_extension": ".py",
   "mimetype": "text/x-python",
   "name": "python",
   "nbconvert_exporter": "python",
   "pygments_lexer": "ipython3",
   "version": "3.11.2"
  }
 },
 "nbformat": 4,
 "nbformat_minor": 5
}
